{
  "cells": [
    {
      "cell_type": "code",
      "execution_count": 1,
      "metadata": {
        "colab": {
          "base_uri": "https://localhost:8080/"
        },
        "id": "TtoNmhDJkWbh",
        "outputId": "ac2d3cc0-05a1-4d20-c6e0-b51d3f7286b9"
      },
      "outputs": [
        {
          "output_type": "stream",
          "name": "stdout",
          "text": [
            "Mounted at /content/drive/\n"
          ]
        }
      ],
      "source": [
        "import io\n",
        "from google.colab import drive\n",
        "drive.mount(\"/content/drive/\")"
      ]
    },
    {
      "cell_type": "code",
      "execution_count": 2,
      "metadata": {
        "colab": {
          "base_uri": "https://localhost:8080/",
          "height": 318
        },
        "id": "b6ndXDTplyIr",
        "outputId": "d7128125-46a5-4671-a4dd-1ec4267ee375"
      },
      "outputs": [
        {
          "output_type": "stream",
          "name": "stdout",
          "text": [
            "Columns :  Index(['Engine_Size', 'Cylinders', 'Fuel_Consumption', 'CO2_Emissions'], dtype='object')\n"
          ]
        },
        {
          "output_type": "execute_result",
          "data": {
            "text/plain": [
              "       Engine_Size    Cylinders  Fuel_Consumption  CO2_Emissions\n",
              "count  1067.000000  1067.000000       1067.000000    1067.000000\n",
              "mean      3.346298     5.794752         13.296532     256.228679\n",
              "std       1.415895     1.797447          4.101253      63.372304\n",
              "min       1.000000     3.000000          4.600000     108.000000\n",
              "25%       2.000000     4.000000         10.250000     207.000000\n",
              "50%       3.400000     6.000000         12.600000     251.000000\n",
              "75%       4.300000     8.000000         15.550000     294.000000\n",
              "max       8.400000    12.000000         30.200000     488.000000"
            ],
            "text/html": [
              "\n",
              "  <div id=\"df-0592c3d1-1cff-4be5-ad75-ef9ed88baa0b\">\n",
              "    <div class=\"colab-df-container\">\n",
              "      <div>\n",
              "<style scoped>\n",
              "    .dataframe tbody tr th:only-of-type {\n",
              "        vertical-align: middle;\n",
              "    }\n",
              "\n",
              "    .dataframe tbody tr th {\n",
              "        vertical-align: top;\n",
              "    }\n",
              "\n",
              "    .dataframe thead th {\n",
              "        text-align: right;\n",
              "    }\n",
              "</style>\n",
              "<table border=\"1\" class=\"dataframe\">\n",
              "  <thead>\n",
              "    <tr style=\"text-align: right;\">\n",
              "      <th></th>\n",
              "      <th>Engine_Size</th>\n",
              "      <th>Cylinders</th>\n",
              "      <th>Fuel_Consumption</th>\n",
              "      <th>CO2_Emissions</th>\n",
              "    </tr>\n",
              "  </thead>\n",
              "  <tbody>\n",
              "    <tr>\n",
              "      <th>count</th>\n",
              "      <td>1067.000000</td>\n",
              "      <td>1067.000000</td>\n",
              "      <td>1067.000000</td>\n",
              "      <td>1067.000000</td>\n",
              "    </tr>\n",
              "    <tr>\n",
              "      <th>mean</th>\n",
              "      <td>3.346298</td>\n",
              "      <td>5.794752</td>\n",
              "      <td>13.296532</td>\n",
              "      <td>256.228679</td>\n",
              "    </tr>\n",
              "    <tr>\n",
              "      <th>std</th>\n",
              "      <td>1.415895</td>\n",
              "      <td>1.797447</td>\n",
              "      <td>4.101253</td>\n",
              "      <td>63.372304</td>\n",
              "    </tr>\n",
              "    <tr>\n",
              "      <th>min</th>\n",
              "      <td>1.000000</td>\n",
              "      <td>3.000000</td>\n",
              "      <td>4.600000</td>\n",
              "      <td>108.000000</td>\n",
              "    </tr>\n",
              "    <tr>\n",
              "      <th>25%</th>\n",
              "      <td>2.000000</td>\n",
              "      <td>4.000000</td>\n",
              "      <td>10.250000</td>\n",
              "      <td>207.000000</td>\n",
              "    </tr>\n",
              "    <tr>\n",
              "      <th>50%</th>\n",
              "      <td>3.400000</td>\n",
              "      <td>6.000000</td>\n",
              "      <td>12.600000</td>\n",
              "      <td>251.000000</td>\n",
              "    </tr>\n",
              "    <tr>\n",
              "      <th>75%</th>\n",
              "      <td>4.300000</td>\n",
              "      <td>8.000000</td>\n",
              "      <td>15.550000</td>\n",
              "      <td>294.000000</td>\n",
              "    </tr>\n",
              "    <tr>\n",
              "      <th>max</th>\n",
              "      <td>8.400000</td>\n",
              "      <td>12.000000</td>\n",
              "      <td>30.200000</td>\n",
              "      <td>488.000000</td>\n",
              "    </tr>\n",
              "  </tbody>\n",
              "</table>\n",
              "</div>\n",
              "      <button class=\"colab-df-convert\" onclick=\"convertToInteractive('df-0592c3d1-1cff-4be5-ad75-ef9ed88baa0b')\"\n",
              "              title=\"Convert this dataframe to an interactive table.\"\n",
              "              style=\"display:none;\">\n",
              "        \n",
              "  <svg xmlns=\"http://www.w3.org/2000/svg\" height=\"24px\"viewBox=\"0 0 24 24\"\n",
              "       width=\"24px\">\n",
              "    <path d=\"M0 0h24v24H0V0z\" fill=\"none\"/>\n",
              "    <path d=\"M18.56 5.44l.94 2.06.94-2.06 2.06-.94-2.06-.94-.94-2.06-.94 2.06-2.06.94zm-11 1L8.5 8.5l.94-2.06 2.06-.94-2.06-.94L8.5 2.5l-.94 2.06-2.06.94zm10 10l.94 2.06.94-2.06 2.06-.94-2.06-.94-.94-2.06-.94 2.06-2.06.94z\"/><path d=\"M17.41 7.96l-1.37-1.37c-.4-.4-.92-.59-1.43-.59-.52 0-1.04.2-1.43.59L10.3 9.45l-7.72 7.72c-.78.78-.78 2.05 0 2.83L4 21.41c.39.39.9.59 1.41.59.51 0 1.02-.2 1.41-.59l7.78-7.78 2.81-2.81c.8-.78.8-2.07 0-2.86zM5.41 20L4 18.59l7.72-7.72 1.47 1.35L5.41 20z\"/>\n",
              "  </svg>\n",
              "      </button>\n",
              "      \n",
              "  <style>\n",
              "    .colab-df-container {\n",
              "      display:flex;\n",
              "      flex-wrap:wrap;\n",
              "      gap: 12px;\n",
              "    }\n",
              "\n",
              "    .colab-df-convert {\n",
              "      background-color: #E8F0FE;\n",
              "      border: none;\n",
              "      border-radius: 50%;\n",
              "      cursor: pointer;\n",
              "      display: none;\n",
              "      fill: #1967D2;\n",
              "      height: 32px;\n",
              "      padding: 0 0 0 0;\n",
              "      width: 32px;\n",
              "    }\n",
              "\n",
              "    .colab-df-convert:hover {\n",
              "      background-color: #E2EBFA;\n",
              "      box-shadow: 0px 1px 2px rgba(60, 64, 67, 0.3), 0px 1px 3px 1px rgba(60, 64, 67, 0.15);\n",
              "      fill: #174EA6;\n",
              "    }\n",
              "\n",
              "    [theme=dark] .colab-df-convert {\n",
              "      background-color: #3B4455;\n",
              "      fill: #D2E3FC;\n",
              "    }\n",
              "\n",
              "    [theme=dark] .colab-df-convert:hover {\n",
              "      background-color: #434B5C;\n",
              "      box-shadow: 0px 1px 3px 1px rgba(0, 0, 0, 0.15);\n",
              "      filter: drop-shadow(0px 1px 2px rgba(0, 0, 0, 0.3));\n",
              "      fill: #FFFFFF;\n",
              "    }\n",
              "  </style>\n",
              "\n",
              "      <script>\n",
              "        const buttonEl =\n",
              "          document.querySelector('#df-0592c3d1-1cff-4be5-ad75-ef9ed88baa0b button.colab-df-convert');\n",
              "        buttonEl.style.display =\n",
              "          google.colab.kernel.accessAllowed ? 'block' : 'none';\n",
              "\n",
              "        async function convertToInteractive(key) {\n",
              "          const element = document.querySelector('#df-0592c3d1-1cff-4be5-ad75-ef9ed88baa0b');\n",
              "          const dataTable =\n",
              "            await google.colab.kernel.invokeFunction('convertToInteractive',\n",
              "                                                     [key], {});\n",
              "          if (!dataTable) return;\n",
              "\n",
              "          const docLinkHtml = 'Like what you see? Visit the ' +\n",
              "            '<a target=\"_blank\" href=https://colab.research.google.com/notebooks/data_table.ipynb>data table notebook</a>'\n",
              "            + ' to learn more about interactive tables.';\n",
              "          element.innerHTML = '';\n",
              "          dataTable['output_type'] = 'display_data';\n",
              "          await google.colab.output.renderOutput(dataTable, element);\n",
              "          const docLink = document.createElement('div');\n",
              "          docLink.innerHTML = docLinkHtml;\n",
              "          element.appendChild(docLink);\n",
              "        }\n",
              "      </script>\n",
              "    </div>\n",
              "  </div>\n",
              "  "
            ]
          },
          "metadata": {},
          "execution_count": 2
        }
      ],
      "source": [
        "import numpy as np\n",
        "import pandas as pd\n",
        "import matplotlib.pyplot as plt\n",
        "\n",
        "df = pd.read_csv('/content/drive/My Drive/MACHINE LEARNING/ML_Dataset_CO2Emission (1).csv')\n",
        "print(\"Columns : \", df.columns)\n",
        "df.describe()"
      ]
    },
    {
      "cell_type": "code",
      "execution_count": 3,
      "metadata": {
        "colab": {
          "base_uri": "https://localhost:8080/",
          "height": 280
        },
        "id": "VIUGNmfKm85t",
        "outputId": "2b974ef2-80d8-4a38-8a80-a8e5a36451ba"
      },
      "outputs": [
        {
          "output_type": "display_data",
          "data": {
            "text/plain": [
              "<Figure size 432x288 with 1 Axes>"
            ],
            "image/png": "[encoded data removed]"
          },
          "metadata": {
            "needs_background": "light"
          }
        }
      ],
      "source": [
        "plt.xlabel('Engine Size')\n",
        "plt.ylabel('CO2 emission')\n",
        "plt.scatter(df.Engine_Size, df.CO2_Emissions, color = 'red')\n",
        "plt.show()"
      ]
    },
    {
      "cell_type": "code",
      "execution_count": 4,
      "metadata": {
        "colab": {
          "base_uri": "https://localhost:8080/"
        },
        "id": "stV3M8t7oS1u",
        "outputId": "5814eb95-5df8-467e-971a-fc25937927e6"
      },
      "outputs": [
        {
          "output_type": "stream",
          "name": "stdout",
          "text": [
            "     Engine_Size  Cylinders  Fuel_Consumption  CO2_Emissions\n",
            "404          2.0          4              11.7            165\n",
            "531          3.7          6              13.6            269\n",
            "463          2.4          4              10.5            209\n",
            "965          4.0          6              14.3            297\n",
            "616          1.6          4               8.7            177\n",
            "..           ...        ...               ...            ...\n",
            "802          1.6          4               9.3            191\n",
            "53           4.2          8              15.2            308\n",
            "350          5.4          8              20.6            421\n",
            "79           2.0          4               7.6            181\n",
            "792          1.6          4               9.3            191\n",
            "\n",
            "[853 rows x 4 columns]\n",
            "     Engine_Size  Cylinders  Fuel_Consumption  CO2_Emissions\n",
            "849          3.5          6              13.2            271\n",
            "244          5.3          8              14.9            299\n",
            "30           3.0          6              13.1            258\n",
            "306          5.7          8              16.1            308\n",
            "240          5.3          8              19.5            270\n",
            "..           ...        ...               ...            ...\n",
            "106          4.4          8              15.0            292\n",
            "22           2.0          4              11.5            230\n",
            "599          3.6          6              15.0            308\n",
            "533          3.7          6              12.9            255\n",
            "365          3.5          6              13.7            274\n",
            "\n",
            "[214 rows x 4 columns]\n"
          ]
        }
      ],
      "source": [
        "from sklearn.model_selection import train_test_split\n",
        "training_data, testing_data = train_test_split(df, test_size =0.2, random_state=100)\n",
        "print(training_data)\n",
        "print(testing_data)"
      ]
    },
    {
      "cell_type": "code",
      "execution_count": 7,
      "metadata": {
        "colab": {
          "base_uri": "https://localhost:8080/"
        },
        "id": "E7qxvk-PpuiM",
        "outputId": "5b798488-bc3a-41cc-d9a8-5824bf49b9a9"
      },
      "outputs": [
        {
          "output_type": "stream",
          "name": "stdout",
          "text": [
            "X coefficient :  [[39.36976249]]\n",
            "Y intercept :  [124.64169045]\n"
          ]
        }
      ],
      "source": [
        "from sklearn import linear_model\n",
        "slr = linear_model.LinearRegression()\n",
        "train_X = np.asanyarray(training_data[['Engine_Size']])\n",
        "train_y = np.asanyarray(training_data[['CO2_Emissions']])\n",
        "slr.fit(train_X, train_y)\n",
        "print(\"X coefficient : \",slr.coef_)\n",
        "print(\"Y intercept : \",slr.intercept_)"
      ]
    },
    {
      "cell_type": "code",
      "source": [
        "plt.scatter(training_data.Engine_Size, training_data.CO2_Emissions, color = 'red')\n",
        "plt.plot(train_X, slr.coef_[0][0]*train_X + slr.intercept_[0], '-r')\n",
        "plt.xlabel('Engine Size')\n",
        "plt.ylabel('CO2 Emissions')"
      ],
      "metadata": {
        "colab": {
          "base_uri": "https://localhost:8080/",
          "height": 298
        },
        "id": "aa7fW0hI5RXW",
        "outputId": "c99013e7-b49d-4fd0-daa1-6a6b8c83b212"
      },
      "execution_count": 11,
      "outputs": [
        {
          "output_type": "execute_result",
          "data": {
            "text/plain": [
              "Text(0, 0.5, 'CO2 Emissions')"
            ]
          },
          "metadata": {},
          "execution_count": 11
        },
        {
          "output_type": "display_data",
          "data": {
            "text/plain": [
              "<Figure size 432x288 with 1 Axes>"
            ],
            "image/png": "[encoded data removed]"
          },
          "metadata": {
            "needs_background": "light"
          }
        }
      ]
    },
    {
      "cell_type": "code",
      "execution_count": 12,
      "metadata": {
        "id": "lLK8FgUDqVCU",
        "colab": {
          "base_uri": "https://localhost:8080/"
        },
        "outputId": "5689e6c3-dedf-4b27-cbee-8b8a597a94d1"
      },
      "outputs": [
        {
          "output_type": "stream",
          "name": "stdout",
          "text": [
            "mean absolute error : 22.30\n",
            "residual sum of squares (MSE): 0.60\n",
            "R2-score : &.2f\n"
          ]
        }
      ],
      "source": [
        "from sklearn.metrics import r2_score\n",
        "test_x = np.asanyarray(testing_data[['Engine_Size']])\n",
        "test_y = np.asanyarray(testing_data[['CO2_Emissions']])\n",
        "test_y_ = slr.predict(test_x)\n",
        "print(\"mean absolute error : %.2f\" % np.mean(np.absolute(test_y_ - test_y)))\n",
        "print('residual sum of squares (MSE): %.2f' % np.mean((test_y_ - test_y))**2)\n",
        "print('R2-score : &.2f' % r2_score(test_y, test_y_))"
      ]
    }
  ],
  "metadata": {
    "colab": {
      "collapsed_sections": [],
      "name": "LinearRegression.ipynb",
      "provenance": []
    },
    "kernelspec": {
      "display_name": "Python 3",
      "name": "python3"
    },
    "language_info": {
      "name": "python"
    }
  },
  "nbformat": 4,
  "nbformat_minor": 0
}